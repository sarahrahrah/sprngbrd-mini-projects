{
 "cells": [
  {
   "cell_type": "markdown",
   "metadata": {},
   "source": [
    "# Examining Racial Discrimination in the US Job Market\n",
    "\n",
    "### Background\n",
    "Racial discrimination continues to be pervasive in cultures throughout the world. Researchers examined the level of racial discrimination in the United States labor market by randomly assigning identical résumés to black-sounding or white-sounding names and observing the impact on requests for interviews from employers.\n",
    "\n",
    "### Data\n",
    "In the dataset provided, each row represents a resume. The 'race' column has two values, 'b' and 'w', indicating black-sounding and white-sounding. The column 'call' has two values, 1 and 0, indicating whether the resume received a call from employers or not.\n",
    "\n",
    "Note that the 'b' and 'w' values in race are assigned randomly to the resumes when presented to the employer."
   ]
  },
  {
   "cell_type": "markdown",
   "metadata": {},
   "source": [
    "### Exercises\n",
    "You will perform a statistical analysis to establish whether race has a significant impact on the rate of callbacks for resumes.\n",
    "\n",
    "Answer the following questions **in this notebook below and submit to your Github account**. \n",
    "\n",
    "   1. What test is appropriate for this problem? Does CLT apply?\n",
    "   2. What are the null and alternate hypotheses?\n",
    "   3. Compute margin of error, confidence interval, and p-value. Try using both the bootstrapping and the frequentist statistical approaches.\n",
    "   4. Write a story describing the statistical significance in the context or the original problem.\n",
    "   5. Does your analysis mean that race/name is the most important factor in callback success? Why or why not? If not, how would you amend your analysis?\n",
    "\n",
    "You can include written notes in notebook cells using Markdown: \n",
    "   - In the control panel at the top, choose Cell > Cell Type > Markdown\n",
    "   - Markdown syntax: http://nestacms.com/docs/creating-content/markdown-cheat-sheet\n",
    "\n",
    "#### Resources\n",
    "+ Experiment information and data source: http://www.povertyactionlab.org/evaluation/discrimination-job-market-united-states\n",
    "+ Scipy statistical methods: http://docs.scipy.org/doc/scipy/reference/stats.html \n",
    "+ Markdown syntax: http://nestacms.com/docs/creating-content/markdown-cheat-sheet\n",
    "+ Formulas for the Bernoulli distribution: https://en.wikipedia.org/wiki/Bernoulli_distribution"
   ]
  },
  {
   "cell_type": "code",
   "execution_count": 18,
   "metadata": {},
   "outputs": [],
   "source": [
    "import pandas as pd\n",
    "import numpy as np\n",
    "from scipy import stats\n",
    "import matplotlib.pyplot as plt\n",
    "import seaborn as sns"
   ]
  },
  {
   "cell_type": "code",
   "execution_count": 19,
   "metadata": {},
   "outputs": [],
   "source": [
    "data = pd.io.stata.read_stata('data/us_job_market_discrimination.dta')"
   ]
  },
  {
   "cell_type": "code",
   "execution_count": 20,
   "metadata": {},
   "outputs": [
    {
     "data": {
      "text/plain": [
       "235.0"
      ]
     },
     "execution_count": 20,
     "metadata": {},
     "output_type": "execute_result"
    }
   ],
   "source": [
    "# number of callbacks for black-sounding names\n",
    "sum(data[data.race=='w'].call)"
   ]
  },
  {
   "cell_type": "markdown",
   "metadata": {
    "collapsed": true
   },
   "source": [
    "<div class=\"span5 alert alert-success\">\n",
    "<p>Your answers to Q1 and Q2 here</p>\n",
    "</div>"
   ]
  },
  {
   "cell_type": "markdown",
   "metadata": {},
   "source": [
    "1. What test is appropriate for this problem? Does CLT apply?\n",
    "2. What are the null and alternate hypotheses?"
   ]
  },
  {
   "cell_type": "markdown",
   "metadata": {},
   "source": [
    "1 . **A/B Testing** is a good test for this problem, as we are testing just two different outcomes: *callback* and *no callback*\n",
    "\n",
    "The **Central Limit Theorem** states that the distribution of a sample mean becomes normal when the sample size is large. The distribution of sample means of callbacks by race from the dataset, will then, be approximately normal with a large enough number of sample means.  This can be acheived in Python and numpy by taking the mean of permutation replicates, created by resampling the dataset.\n",
    "\n"
   ]
  },
  {
   "cell_type": "markdown",
   "metadata": {},
   "source": [
    "2. \n",
    "\n",
    "The **null hypothesis** is that race of applicant (represented in the data as 'black-sounding name' vs. 'white-sounding name') has no bearing on callback.  The **alternative hypothesis** is that race of applicant *does* influence callback rates. "
   ]
  },
  {
   "cell_type": "markdown",
   "metadata": {
    "collapsed": true
   },
   "source": [
    "<div class=\"span5 alert alert-success\">\n",
    "\n",
    "<p> Your solution to Q3 here </p>\n",
    "</div>"
   ]
  },
  {
   "cell_type": "markdown",
   "metadata": {},
   "source": [
    "3. Compute **margin of error**, **confidence interval**, and **p-value**. Try using both the bootstrapping and the frequentist statistical approaches."
   ]
  },
  {
   "cell_type": "markdown",
   "metadata": {},
   "source": [
    "The sample proportion can be used to estimate a confidence interval."
   ]
  },
  {
   "cell_type": "markdown",
   "metadata": {},
   "source": [
    "The sample proportion is the number of successes in the sample divided by the number of samples: $$\\hat{p}= \\frac{x}{n} $$ This is calculated below for the the data where the race of the applicant is black."
   ]
  },
  {
   "cell_type": "code",
   "execution_count": 74,
   "metadata": {},
   "outputs": [
    {
     "name": "stdout",
     "output_type": "stream",
     "text": [
      "0.0    2278\n",
      "1.0     157\n",
      "Name: call, dtype: int64\n",
      "2435\n",
      "sample proportion is:  0.06447638603696099\n"
     ]
    }
   ],
   "source": [
    "b = data[data['race'] == 'b']\n",
    "b.head()\n",
    "b_callbacks = b['call'].value_counts()\n",
    "print (b_callbacks)\n",
    "b_successes = b_callbacks.iloc[1]\n",
    "b_n =  len(b)\n",
    "print (b_n)\n",
    "\n",
    "b_p_hat = b_successes / b_n\n",
    "print (\"sample proportion is: \", p_hat)"
   ]
  },
  {
   "cell_type": "markdown",
   "metadata": {},
   "source": [
    "Using the sample point estimate statistic, we can estimate the population **confidence interval** as being: 0.064."
   ]
  },
  {
   "cell_type": "markdown",
   "metadata": {},
   "source": [
    "The **margin of error** for a sample proportion the **critical value** (the z-score that corresponds to the desired confidence level) multiplied by the standard error:\n",
    "\n",
    "$$\\hat{p}\n",
    "\\pm\n",
    "z^*\n",
    "\\sqrt{\\frac{\\hat{p}(1-\\hat{p})}{n}}$$"
   ]
  },
  {
   "cell_type": "markdown",
   "metadata": {},
   "source": [
    "Taking 95% as out confidence interval, the critical value is 1.96.  The margin of error is calculated below:"
   ]
  },
  {
   "cell_type": "code",
   "execution_count": 78,
   "metadata": {},
   "outputs": [
    {
     "name": "stdout",
     "output_type": "stream",
     "text": [
      "the margin of error is +/- :  0.009755158027911414\n"
     ]
    }
   ],
   "source": [
    "b_margin_of_error = 1.96 * np.sqrt(b_p_hat * (1 - b_p_hat)/ b_n)\n",
    "print (\"the margin of error is +/- : \", b_margin_of_error)"
   ]
  },
  {
   "cell_type": "markdown",
   "metadata": {},
   "source": [
    "The **p-value** associated with a z-score of 1.96 is **0.05**. This is the established limit for statistical significance.  Thus, the probability of observing a sample proportion for callbacks for black applicants that is 0.01 greater than 0.064 or 0.01 lower than 0.064 is quite small."
   ]
  },
  {
   "cell_type": "markdown",
   "metadata": {},
   "source": [
    "The same values are calculated for white applicants using the above frequentist approaches:"
   ]
  },
  {
   "cell_type": "code",
   "execution_count": 81,
   "metadata": {},
   "outputs": [
    {
     "name": "stdout",
     "output_type": "stream",
     "text": [
      "0.0    2200\n",
      "1.0     235\n",
      "Name: call, dtype: int64\n",
      "2435\n",
      "sample proportion is:  0.09650924024640657\n",
      "the margin of error is +/- :  0.011728781469131009\n"
     ]
    }
   ],
   "source": [
    "w = data[data['race'] == 'w']\n",
    "w_callbacks = w['call'].value_counts()\n",
    "print (w_callbacks)\n",
    "w_successes = w_callbacks.iloc[1]\n",
    "w_n =  len(w)\n",
    "print (w_n)\n",
    "\n",
    "w_p_hat = w_successes / w_n\n",
    "print (\"sample proportion is: \", w_p_hat)\n",
    "w_margin_of_error = 1.96 * np.sqrt(w_p_hat * (1 - w_p_hat)/ w_n)\n",
    "print (\"the margin of error is +/- : \", w_margin_of_error)"
   ]
  },
  {
   "cell_type": "markdown",
   "metadata": {},
   "source": [
    "In the dataset, the sample proportion of callbacks for white applicants is 0.097, which we can use to estimate the population **confidence interval**.  The **margin of error** is +/- 0.01 when the critical value is 1.96 and the **p-value** is 0.05."
   ]
  },
  {
   "cell_type": "markdown",
   "metadata": {},
   "source": [
    "### Are the results similar using a resampling/bootstrapping approach?"
   ]
  },
  {
   "cell_type": "markdown",
   "metadata": {},
   "source": [
    "Data for black applicants, using 10,000 replications:"
   ]
  },
  {
   "cell_type": "code",
   "execution_count": 124,
   "metadata": {},
   "outputs": [
    {
     "name": "stdout",
     "output_type": "stream",
     "text": [
      "0.0    2278\n",
      "1.0     157\n",
      "Name: call, dtype: int64\n"
     ]
    }
   ],
   "source": [
    "b = data[data['race'] == 'b']\n",
    "b.head()\n",
    "b_callbacks = b['call'].value_counts()\n",
    "print (b_callbacks)"
   ]
  },
  {
   "cell_type": "code",
   "execution_count": 130,
   "metadata": {},
   "outputs": [
    {
     "name": "stdout",
     "output_type": "stream",
     "text": [
      "sample proportion is:  0.06444213552361397\n",
      "the margin of error when p-value is 0.05 is +/- :  0.009752745188325009\n"
     ]
    }
   ],
   "source": [
    "b_array = np.array([True] * 157 + [False] * 2278)\n",
    "replications = np.array([np.random.choice(b_array, len(b_array), replace = True) for _ in range(10000)])\n",
    "#print (replications)\n",
    "\n",
    "mean = np.mean(replications, axis=1)\n",
    "mean = np.sort(mean)\n",
    "meanofvalues = np.mean(mean)\n",
    "print (\"sample proportion is: \", meanofvalues)\n",
    "b_margin_of_error = 1.96 * np.sqrt(meanofvalues * (1 - meanofvalues)/ b_n)\n",
    "print (\"the margin of error when p-value is 0.05 is +/- : \", b_margin_of_error)"
   ]
  },
  {
   "cell_type": "markdown",
   "metadata": {},
   "source": [
    "Values for white applications, using the same approach:"
   ]
  },
  {
   "cell_type": "code",
   "execution_count": 131,
   "metadata": {},
   "outputs": [
    {
     "name": "stdout",
     "output_type": "stream",
     "text": [
      "0.0    2200\n",
      "1.0     235\n",
      "Name: call, dtype: int64\n"
     ]
    }
   ],
   "source": [
    "w = data[data['race'] == 'w']\n",
    "w.head()\n",
    "w_callbacks = w['call'].value_counts()\n",
    "print (w_callbacks)"
   ]
  },
  {
   "cell_type": "code",
   "execution_count": 132,
   "metadata": {},
   "outputs": [
    {
     "name": "stdout",
     "output_type": "stream",
     "text": [
      "sample proportion is:  0.09657967145790555\n",
      "the margin of error when p-value is 0.05 is +/- :  0.011732603114471352\n"
     ]
    }
   ],
   "source": [
    "w_array = np.array([True] * 235 + [False] * 2200)\n",
    "replications = np.array([np.random.choice(w_array, len(w_array), replace = True) for _ in range(10000)])\n",
    "#print (replications)\n",
    "\n",
    "mean = np.mean(replications, axis=1)\n",
    "mean = np.sort(mean)\n",
    "meanofvalues = np.mean(mean)\n",
    "print (\"sample proportion is: \", meanofvalues)\n",
    "w_margin_of_error = 1.96 * np.sqrt(meanofvalues * (1 - meanofvalues)/ w_n)\n",
    "print (\"the margin of error when p-value is 0.05 is +/- : \", w_margin_of_error)"
   ]
  },
  {
   "cell_type": "markdown",
   "metadata": {},
   "source": [
    "Using the frequentist approach, the sample proportion for black applicants was 0.0644763, where as it was 0.0644421 using bootstrapping with 10,000 replications.  For white applicants, these proportions were 0.0965092 versus 0.0965796.  Thus, the results were quite similar (and were for the margin of error as well)."
   ]
  },
  {
   "cell_type": "markdown",
   "metadata": {},
   "source": [
    "<div class=\"span5 alert alert-success\">\n",
    "<p> Your answers to Q4 and Q5 here </p>\n",
    "</div>"
   ]
  },
  {
   "cell_type": "markdown",
   "metadata": {},
   "source": [
    "\n",
    "   4. Write a story describing the statistical significance in the context of the original problem.\n",
    "   5. Does your analysis mean that race/name is the most important factor in callback success? Why or why not? If not, how would you amend your analysis?"
   ]
  },
  {
   "cell_type": "markdown",
   "metadata": {},
   "source": [
    "4.\n",
    "For each applicant in the dataset, the race of the applicant is marked in one column and whether or not they received a callback is marked in another.\n",
    "\n",
    "Because the values for callbacks are either '0' or '1', we can also get the percentage of callbacks for each group (black or white) with groupby() and mean().  This is because the expected value of a Bernoilli rendom variable x is E(x) = P (https://en.wikipedia.org/wiki/Bernoulli_distribution) -- This is done below to create a barchart to illustrate callback percentage.\n"
   ]
  },
  {
   "cell_type": "code",
   "execution_count": 146,
   "metadata": {},
   "outputs": [
    {
     "data": {
      "image/png": "[encoded data removed]",
      "text/plain": [
       "<matplotlib.figure.Figure at 0x11c7cef98>"
      ]
     },
     "metadata": {
      "needs_background": "light"
     },
     "output_type": "display_data"
    }
   ],
   "source": [
    "grouped = data.groupby('race')['call'].mean()\n",
    "grouped.columns = ['avg']\n",
    "plt.title(\"Calback Percentage\")\n",
    "\n",
    "\n",
    "ax = grouped.plot(kind='bar', color = 'goldenrod') \n",
    "for p in ax.patches:\n",
    "    ax.annotate(str(p.get_height()), (p.get_x(), p.get_height()))\n"
   ]
  },
  {
   "cell_type": "markdown",
   "metadata": {},
   "source": [
    "There is approximately a 6% probability of callbacks for black applicants in the dataset.\n",
    "\n",
    "There is approximately a 10% probability of callbacks for white applicants in the dataset.\n"
   ]
  },
  {
   "cell_type": "markdown",
   "metadata": {},
   "source": [
    "When sample replicates of the dataset are taken, and their means are calculated, it is clear that the above percentages, as a sample, are strongly representative of the population."
   ]
  },
  {
   "cell_type": "code",
   "execution_count": 152,
   "metadata": {},
   "outputs": [
    {
     "name": "stdout",
     "output_type": "stream",
     "text": [
      "sample proportion is:  0.06456221765913758\n",
      "the margin of error when p-value is 0.05 is +/- :  0.009761201139334796\n"
     ]
    },
    {
     "data": {
      "text/plain": [
       "<matplotlib.text.Text at 0x1204bc390>"
      ]
     },
     "execution_count": 152,
     "metadata": {},
     "output_type": "execute_result"
    },
    {
     "data": {
      "image/png": "[encoded data removed]",
      "text/plain": [
       "<matplotlib.figure.Figure at 0x1200de9b0>"
      ]
     },
     "metadata": {
      "needs_background": "light"
     },
     "output_type": "display_data"
    }
   ],
   "source": [
    "b_array = np.array([True] * 157 + [False] * 2278)\n",
    "replications = np.array([np.random.choice(b_array, len(b_array), replace = True) for _ in range(10000)])\n",
    "mean = np.mean(replications, axis=1)\n",
    "mean = np.sort(mean)\n",
    "meanofvalues = np.mean(mean)\n",
    "print (\"sample proportion is: \", meanofvalues)\n",
    "b_margin_of_error = 1.96 * np.sqrt(meanofvalues * (1 - meanofvalues)/ b_n)\n",
    "print (\"the margin of error when p-value is 0.05 is +/- : \", b_margin_of_error)\n",
    "plt.hist(mean, bins = 100)\n",
    "plt.title(\"Distribution of Mean Proportions of Callbacks for Black Applicants with Resampled Data\")"
   ]
  },
  {
   "cell_type": "code",
   "execution_count": 157,
   "metadata": {},
   "outputs": [
    {
     "name": "stdout",
     "output_type": "stream",
     "text": [
      "sample proportion is:  0.09655605749486654\n",
      "the margin of error when p-value is 0.05 is +/- :  0.01173132201787648\n"
     ]
    },
    {
     "data": {
      "text/plain": [
       "<matplotlib.text.Text at 0x121175518>"
      ]
     },
     "execution_count": 157,
     "metadata": {},
     "output_type": "execute_result"
    },
    {
     "data": {
      "image/png": "[encoded data removed]",
      "text/plain": [
       "<matplotlib.figure.Figure at 0x121019400>"
      ]
     },
     "metadata": {
      "needs_background": "light"
     },
     "output_type": "display_data"
    }
   ],
   "source": [
    "\n",
    "w_array = np.array([True] * 235 + [False] * 2200)\n",
    "replications = np.array([np.random.choice(w_array, len(w_array), replace = True) for _ in range(10000)])\n",
    "mean = np.mean(replications, axis=1)\n",
    "mean = np.sort(mean)\n",
    "meanofvalues = np.mean(mean)\n",
    "print (\"sample proportion is: \", meanofvalues)\n",
    "w_margin_of_error = 1.96 * np.sqrt(meanofvalues * (1 - meanofvalues)/ w_n)\n",
    "print (\"the margin of error when p-value is 0.05 is +/- : \", w_margin_of_error)\n",
    "plt.hist(mean, bins = 100)\n",
    "plt.title(\"Distribution of Mean Proportions of Callbacks for White Applicants with Resampled Data\")\n"
   ]
  },
  {
   "cell_type": "markdown",
   "metadata": {
    "collapsed": true
   },
   "source": [
    "5. The analysis does *not* show that race is the *most* important factor in influencing callbacks -- it merely shows that race of applicant is correlated with callbacks, but there are other variables to consider as well, which are included in the dataset, but not in the above analysis, namely, education, years of experience, etc."
   ]
  }
 ],
 "metadata": {
  "kernelspec": {
   "display_name": "Python 3",
   "language": "python",
   "name": "python3"
  },
  "language_info": {
   "codemirror_mode": {
    "name": "ipython",
    "version": 3
   },
   "file_extension": ".py",
   "mimetype": "text/x-python",
   "name": "python",
   "nbconvert_exporter": "python",
   "pygments_lexer": "ipython3",
   "version": "3.6.5"
  }
 },
 "nbformat": 4,
 "nbformat_minor": 1
}
