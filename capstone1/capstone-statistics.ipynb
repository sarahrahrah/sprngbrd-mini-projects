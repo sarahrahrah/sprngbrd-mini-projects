{
 "cells": [
  {
   "cell_type": "markdown",
   "metadata": {},
   "source": [
    "# Exploratory Data Analysis (EDA) -- Inferential Statistics"
   ]
  },
  {
   "cell_type": "markdown",
   "metadata": {},
   "source": [
    "Questions:\n",
    "\n",
    "1. What is the probability that mean prices are similar for wines from different regions and countries.\n",
    "\n",
    "2. What is the correlation between price and rating?\n",
    "\n",
    "These questions can be answered by using **Student's T-Test** and the **Pearson correlation coefficient**."
   ]
  },
  {
   "cell_type": "code",
   "execution_count": 3,
   "metadata": {},
   "outputs": [
    {
     "data": {
      "text/html": [
       "<div>\n",
       "<style>\n",
       "    .dataframe thead tr:only-child th {\n",
       "        text-align: right;\n",
       "    }\n",
       "\n",
       "    .dataframe thead th {\n",
       "        text-align: left;\n",
       "    }\n",
       "\n",
       "    .dataframe tbody tr th {\n",
       "        vertical-align: top;\n",
       "    }\n",
       "</style>\n",
       "<table border=\"1\" class=\"dataframe\">\n",
       "  <thead>\n",
       "    <tr style=\"text-align: right;\">\n",
       "      <th></th>\n",
       "      <th>country</th>\n",
       "      <th>description</th>\n",
       "      <th>designation</th>\n",
       "      <th>points</th>\n",
       "      <th>price</th>\n",
       "      <th>region</th>\n",
       "      <th>sub_region</th>\n",
       "      <th>taster_name</th>\n",
       "      <th>taster_twitter_handle</th>\n",
       "      <th>title</th>\n",
       "      <th>variety</th>\n",
       "      <th>winery</th>\n",
       "    </tr>\n",
       "  </thead>\n",
       "  <tbody>\n",
       "    <tr>\n",
       "      <th>0</th>\n",
       "      <td>Portugal</td>\n",
       "      <td>This is ripe and fruity, a wine that is smooth...</td>\n",
       "      <td>Avidagos</td>\n",
       "      <td>87</td>\n",
       "      <td>15.0</td>\n",
       "      <td>Douro</td>\n",
       "      <td>NaN</td>\n",
       "      <td>Roger Voss</td>\n",
       "      <td>@vossroger</td>\n",
       "      <td>Quinta dos Avidagos 2011 Avidagos Red (Douro)</td>\n",
       "      <td>Portuguese Red</td>\n",
       "      <td>Quinta dos Avidagos</td>\n",
       "    </tr>\n",
       "    <tr>\n",
       "      <th>1</th>\n",
       "      <td>US</td>\n",
       "      <td>Tart and snappy, the flavors of lime flesh and...</td>\n",
       "      <td>NaN</td>\n",
       "      <td>87</td>\n",
       "      <td>14.0</td>\n",
       "      <td>Oregon</td>\n",
       "      <td>Willamette Valley</td>\n",
       "      <td>Paul Gregutt</td>\n",
       "      <td>@paulgwine</td>\n",
       "      <td>Rainstorm 2013 Pinot Gris (Willamette Valley)</td>\n",
       "      <td>Pinot Gris</td>\n",
       "      <td>Rainstorm</td>\n",
       "    </tr>\n",
       "    <tr>\n",
       "      <th>2</th>\n",
       "      <td>US</td>\n",
       "      <td>Pineapple rind, lemon pith and orange blossom ...</td>\n",
       "      <td>Reserve Late Harvest</td>\n",
       "      <td>87</td>\n",
       "      <td>13.0</td>\n",
       "      <td>Michigan</td>\n",
       "      <td>Lake Michigan Shore</td>\n",
       "      <td>Alexander Peartree</td>\n",
       "      <td>NaN</td>\n",
       "      <td>St. Julian 2013 Reserve Late Harvest Riesling ...</td>\n",
       "      <td>Riesling</td>\n",
       "      <td>St. Julian</td>\n",
       "    </tr>\n",
       "    <tr>\n",
       "      <th>3</th>\n",
       "      <td>US</td>\n",
       "      <td>Much like the regular bottling from 2012, this...</td>\n",
       "      <td>Vintner's Reserve Wild Child Block</td>\n",
       "      <td>87</td>\n",
       "      <td>65.0</td>\n",
       "      <td>Oregon</td>\n",
       "      <td>Willamette Valley</td>\n",
       "      <td>Paul Gregutt</td>\n",
       "      <td>@paulgwine</td>\n",
       "      <td>Sweet Cheeks 2012 Vintner's Reserve Wild Child...</td>\n",
       "      <td>Pinot Noir</td>\n",
       "      <td>Sweet Cheeks</td>\n",
       "    </tr>\n",
       "    <tr>\n",
       "      <th>4</th>\n",
       "      <td>Spain</td>\n",
       "      <td>Blackberry and raspberry aromas show a typical...</td>\n",
       "      <td>Ars In Vitro</td>\n",
       "      <td>87</td>\n",
       "      <td>15.0</td>\n",
       "      <td>Northern Spain</td>\n",
       "      <td>Navarra</td>\n",
       "      <td>Michael Schachner</td>\n",
       "      <td>@wineschach</td>\n",
       "      <td>Tandem 2011 Ars In Vitro Tempranillo-Merlot (N...</td>\n",
       "      <td>Tempranillo-Merlot</td>\n",
       "      <td>Tandem</td>\n",
       "    </tr>\n",
       "  </tbody>\n",
       "</table>\n",
       "</div>"
      ],
      "text/plain": [
       "    country                                        description  \\\n",
       "0  Portugal  This is ripe and fruity, a wine that is smooth...   \n",
       "1        US  Tart and snappy, the flavors of lime flesh and...   \n",
       "2        US  Pineapple rind, lemon pith and orange blossom ...   \n",
       "3        US  Much like the regular bottling from 2012, this...   \n",
       "4     Spain  Blackberry and raspberry aromas show a typical...   \n",
       "\n",
       "                          designation  points  price          region  \\\n",
       "0                            Avidagos      87   15.0           Douro   \n",
       "1                                 NaN      87   14.0          Oregon   \n",
       "2                Reserve Late Harvest      87   13.0        Michigan   \n",
       "3  Vintner's Reserve Wild Child Block      87   65.0          Oregon   \n",
       "4                        Ars In Vitro      87   15.0  Northern Spain   \n",
       "\n",
       "            sub_region         taster_name taster_twitter_handle  \\\n",
       "0                  NaN          Roger Voss            @vossroger   \n",
       "1    Willamette Valley        Paul Gregutt           @paulgwine    \n",
       "2  Lake Michigan Shore  Alexander Peartree                   NaN   \n",
       "3    Willamette Valley        Paul Gregutt           @paulgwine    \n",
       "4              Navarra   Michael Schachner           @wineschach   \n",
       "\n",
       "                                               title             variety  \\\n",
       "0      Quinta dos Avidagos 2011 Avidagos Red (Douro)      Portuguese Red   \n",
       "1      Rainstorm 2013 Pinot Gris (Willamette Valley)          Pinot Gris   \n",
       "2  St. Julian 2013 Reserve Late Harvest Riesling ...            Riesling   \n",
       "3  Sweet Cheeks 2012 Vintner's Reserve Wild Child...          Pinot Noir   \n",
       "4  Tandem 2011 Ars In Vitro Tempranillo-Merlot (N...  Tempranillo-Merlot   \n",
       "\n",
       "                winery  \n",
       "0  Quinta dos Avidagos  \n",
       "1            Rainstorm  \n",
       "2           St. Julian  \n",
       "3         Sweet Cheeks  \n",
       "4               Tandem  "
      ]
     },
     "execution_count": 3,
     "metadata": {},
     "output_type": "execute_result"
    }
   ],
   "source": [
    "import numpy as np\n",
    "import pandas as pd\n",
    "from scipy.stats import zscore\n",
    "import matplotlib\n",
    "import matplotlib.pyplot as plt\n",
    "import seaborn as sns\n",
    "plt.style.use('ggplot')\n",
    "winedata = pd.read_csv(\"cleaned_wine_data.csv\")\n",
    "winedata = winedata.drop('Unnamed: 0', 1)\n",
    "winedata.head()"
   ]
  },
  {
   "cell_type": "code",
   "execution_count": 23,
   "metadata": {},
   "outputs": [],
   "source": [
    "frenchwines = winedata[winedata['country'] == 'France'].reset_index()\n",
    "italianwines = winedata[winedata['country'] == 'Italy'].reset_index()\n",
    "uswines = winedata[winedata['country'] == 'US'].reset_index()\n",
    "caliwines = uswines[uswines['region'] == 'California']"
   ]
  },
  {
   "cell_type": "markdown",
   "metadata": {},
   "source": [
    "## Two Sample T-Test"
   ]
  },
  {
   "cell_type": "markdown",
   "metadata": {},
   "source": [
    "Student's T-test looks at the differences between two means to determine the level of significance of their difference.  A Two Sample T-Test can be used when the means of the two samples being considered are not connected to each other. "
   ]
  },
  {
   "cell_type": "markdown",
   "metadata": {},
   "source": [
    "$t = \\frac{\\bar{X}_1 - \\bar{X}_2}{s_p \\sqrt\\frac{2}{n}}$ where $s_p = \\sqrt{\\frac{s_{X_1}^2+s_{X_2}^2}{2}}$"
   ]
  },
  {
   "cell_type": "code",
   "execution_count": 1,
   "metadata": {},
   "outputs": [],
   "source": [
    "from scipy.stats import ttest_ind"
   ]
  },
  {
   "cell_type": "markdown",
   "metadata": {},
   "source": [
    "### French Wines"
   ]
  },
  {
   "cell_type": "markdown",
   "metadata": {},
   "source": [
    "Visualizations indicated that wines from the Champagne and Burgundy regions of France on average were higher priced than wines from other regions of France.  The T-test is used on these regions versus other regions in France. "
   ]
  },
  {
   "cell_type": "code",
   "execution_count": 37,
   "metadata": {
    "scrolled": true
   },
   "outputs": [
    {
     "data": {
      "text/plain": [
       "Ttest_indResult(statistic=35.32778806213724, pvalue=2.81022777051498e-264)"
      ]
     },
     "execution_count": 37,
     "metadata": {},
     "output_type": "execute_result"
    }
   ],
   "source": [
    "champagneandburgundy = frenchwines[(frenchwines['region']=='Burgundy') | (frenchwines['region']=='Champagne')]\n",
    "otherfrenchregions = frenchwines[(frenchwines['region']!='Burgundy') & (frenchwines['region']!='Champagne')]\n",
    "ttest_ind(champagneandburgundy['price'], otherfrenchregions['price'])"
   ]
  },
  {
   "cell_type": "markdown",
   "metadata": {},
   "source": [
    "The low p-value indicates that the discrepancy between average price of wines from the Champagne and Burgundy regions as opposed to other regions in France is not coincidental. "
   ]
  },
  {
   "cell_type": "markdown",
   "metadata": {},
   "source": [
    "### Italian Wines"
   ]
  },
  {
   "cell_type": "markdown",
   "metadata": {},
   "source": [
    "The T-test is used on wines from Piedmont and Tuscany (which visualizations indicated were more expensive) and other regions in Italy."
   ]
  },
  {
   "cell_type": "code",
   "execution_count": 38,
   "metadata": {},
   "outputs": [
    {
     "data": {
      "text/plain": [
       "Ttest_indResult(statistic=37.15516314840329, pvalue=1.5242090390417913e-290)"
      ]
     },
     "execution_count": 38,
     "metadata": {},
     "output_type": "execute_result"
    }
   ],
   "source": [
    "piedmontandtuscany = italianwines[(italianwines['region']=='Piedmont') | (italianwines['region']=='Tuscany')]\n",
    "otheritalianregions = italianwines[(italianwines['region']!='Piedmont') & (italianwines['region']!='Tuscany')]\n",
    "ttest_ind(piedmontandtuscany['price'], otheritalianregions['price'])"
   ]
  },
  {
   "cell_type": "markdown",
   "metadata": {},
   "source": [
    "The low p-value indicates that the difference in averages is not coincidental. "
   ]
  },
  {
   "cell_type": "markdown",
   "metadata": {},
   "source": [
    "### California Wines"
   ]
  },
  {
   "cell_type": "markdown",
   "metadata": {},
   "source": [
    "The T-test is used on wines from Napa Valley, Sonoma Coast and Sta. Rita Hills (which visualizations indicated were more expensive) and other regions in California."
   ]
  },
  {
   "cell_type": "code",
   "execution_count": 36,
   "metadata": {},
   "outputs": [
    {
     "data": {
      "text/plain": [
       "Ttest_indResult(statistic=41.221474432324115, pvalue=0.0)"
      ]
     },
     "execution_count": 36,
     "metadata": {},
     "output_type": "execute_result"
    }
   ],
   "source": [
    "napasonomastarita = caliwines[(caliwines['sub_region']=='Napa Valley') | (caliwines['sub_region']=='Sonoma Coast') | (caliwines['sub_region']=='Sta. Rita Hills')]\n",
    "othercaliregions = caliwines[(caliwines['sub_region']!='Napa Valley') & (caliwines['sub_region']!='Sonoma Coast') & (caliwines['sub_region']!='Sta. Rita Hills')]\n",
    "ttest_ind(napasonomastarita['price'], othercaliregions['price'])"
   ]
  },
  {
   "cell_type": "markdown",
   "metadata": {},
   "source": [
    "Again, the low p-value indicates that the difference in averages is not coincidental. "
   ]
  },
  {
   "cell_type": "markdown",
   "metadata": {},
   "source": [
    "## Pearson correlation coefficient."
   ]
  },
  {
   "cell_type": "code",
   "execution_count": 40,
   "metadata": {},
   "outputs": [
    {
     "data": {
      "image/png": "[encoded data removed]",
      "text/plain": [
       "<matplotlib.figure.Figure at 0x113698208>"
      ]
     },
     "metadata": {
      "needs_background": "light"
     },
     "output_type": "display_data"
    }
   ],
   "source": [
    "points = winedata['points']\n",
    "price = winedata['price']\n",
    "\n",
    "plt.figure(figsize=(15, 5))\n",
    "plt.plot(points, price,  marker='.', linestyle='none')\n",
    "_ = plt.xlabel('points')\n",
    "_ = plt.ylabel('price')\n",
    "_ = plt.title(\"Points vs. Price\")\n",
    "a, b = np.polyfit(points, price, 1)\n",
    "x = np.array([70,110])\n",
    "y = a * x +  b\n",
    "_ = plt.plot(x, y)\n",
    "\n"
   ]
  },
  {
   "cell_type": "markdown",
   "metadata": {},
   "source": [
    "The line shows a positive correlation.  Calculating the Pearson correlation coefficient can further indicate the positive relationship between points and price in the entire dataset."
   ]
  },
  {
   "cell_type": "code",
   "execution_count": 43,
   "metadata": {},
   "outputs": [
    {
     "name": "stdout",
     "output_type": "stream",
     "text": [
      "0.4170139701452048\n"
     ]
    }
   ],
   "source": [
    "all_data_corr_mat = np.corrcoef(points, price)\n",
    "print (all_data_corr_mat[0,1])\n"
   ]
  },
  {
   "cell_type": "markdown",
   "metadata": {},
   "source": [
    "The correlation coefficient can also be calculated for individual subgroups that one wants to consider in the dataset, in this case, French, Italian, and Californian wines."
   ]
  },
  {
   "cell_type": "code",
   "execution_count": 44,
   "metadata": {},
   "outputs": [
    {
     "name": "stdout",
     "output_type": "stream",
     "text": [
      "0.4058294023943131\n"
     ]
    }
   ],
   "source": [
    "french_corr_mat = np.corrcoef(frenchwines['points'], frenchwines['price'])\n",
    "print (french_corr_mat[0,1])\n"
   ]
  },
  {
   "cell_type": "code",
   "execution_count": 45,
   "metadata": {},
   "outputs": [
    {
     "name": "stdout",
     "output_type": "stream",
     "text": [
      "0.5280726946460933\n"
     ]
    }
   ],
   "source": [
    "italian_corr_mat = np.corrcoef(italianwines['points'], italianwines['price'])\n",
    "print (italian_corr_mat[0,1])"
   ]
  },
  {
   "cell_type": "code",
   "execution_count": 46,
   "metadata": {},
   "outputs": [
    {
     "name": "stdout",
     "output_type": "stream",
     "text": [
      "0.44274738612470926\n"
     ]
    }
   ],
   "source": [
    "cali_corr_mat = np.corrcoef(caliwines['points'], caliwines['price'])\n",
    "print (cali_corr_mat[0,1])"
   ]
  },
  {
   "cell_type": "markdown",
   "metadata": {},
   "source": [
    "The previous lines show that for wines from all of the subgroups, price was positively associated with points given by raters; for Italian wines, this relationship was somewhat more pronounced."
   ]
  },
  {
   "cell_type": "code",
   "execution_count": null,
   "metadata": {},
   "outputs": [],
   "source": []
  }
 ],
 "metadata": {
  "kernelspec": {
   "display_name": "Python 3",
   "language": "python",
   "name": "python3"
  },
  "language_info": {
   "codemirror_mode": {
    "name": "ipython",
    "version": 3
   },
   "file_extension": ".py",
   "mimetype": "text/x-python",
   "name": "python",
   "nbconvert_exporter": "python",
   "pygments_lexer": "ipython3",
   "version": "3.6.5"
  }
 },
 "nbformat": 4,
 "nbformat_minor": 2
}
